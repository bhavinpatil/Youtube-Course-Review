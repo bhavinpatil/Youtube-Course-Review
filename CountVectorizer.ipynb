{
 "cells": [
  {
   "cell_type": "code",
   "execution_count": 20,
   "id": "b9bf552b",
   "metadata": {},
   "outputs": [],
   "source": [
    "import pandas as pd"
   ]
  },
  {
   "cell_type": "code",
   "execution_count": 21,
   "id": "8f6314e2",
   "metadata": {},
   "outputs": [],
   "source": [
    "data = pd.read_csv('preprocessed_data.csv')"
   ]
  },
  {
   "cell_type": "code",
   "execution_count": 58,
   "id": "ead5245b",
   "metadata": {},
   "outputs": [
    {
     "data": {
      "text/plain": [
       "reviews      23\n",
       "sentiment     0\n",
       "dtype: int64"
      ]
     },
     "execution_count": 58,
     "metadata": {},
     "output_type": "execute_result"
    }
   ],
   "source": [
    "data.isna().sum()"
   ]
  },
  {
   "cell_type": "code",
   "execution_count": 59,
   "id": "d39fb308",
   "metadata": {},
   "outputs": [],
   "source": [
    "data = data.dropna()"
   ]
  },
  {
   "cell_type": "code",
   "execution_count": 61,
   "id": "59948a38",
   "metadata": {},
   "outputs": [
    {
     "data": {
      "text/plain": [
       "reviews      0\n",
       "sentiment    0\n",
       "dtype: int64"
      ]
     },
     "execution_count": 61,
     "metadata": {},
     "output_type": "execute_result"
    }
   ],
   "source": [
    "data.isna().sum()"
   ]
  },
  {
   "cell_type": "code",
   "execution_count": 62,
   "id": "a1ad7eda",
   "metadata": {},
   "outputs": [],
   "source": [
    "data = data[[\"reviews\",\"sentiment\"]]"
   ]
  },
  {
   "cell_type": "code",
   "execution_count": 63,
   "id": "8e71d7ce",
   "metadata": {},
   "outputs": [
    {
     "data": {
      "text/html": [
       "<div>\n",
       "<style scoped>\n",
       "    .dataframe tbody tr th:only-of-type {\n",
       "        vertical-align: middle;\n",
       "    }\n",
       "\n",
       "    .dataframe tbody tr th {\n",
       "        vertical-align: top;\n",
       "    }\n",
       "\n",
       "    .dataframe thead th {\n",
       "        text-align: right;\n",
       "    }\n",
       "</style>\n",
       "<table border=\"1\" class=\"dataframe\">\n",
       "  <thead>\n",
       "    <tr style=\"text-align: right;\">\n",
       "      <th></th>\n",
       "      <th>reviews</th>\n",
       "      <th>sentiment</th>\n",
       "    </tr>\n",
       "  </thead>\n",
       "  <tbody>\n",
       "    <tr>\n",
       "      <th>0</th>\n",
       "      <td>A fantastic overview and immersion into the wo...</td>\n",
       "      <td>1</td>\n",
       "    </tr>\n",
       "    <tr>\n",
       "      <th>1</th>\n",
       "      <td>Good course for learn the principles of oop wi...</td>\n",
       "      <td>1</td>\n",
       "    </tr>\n",
       "    <tr>\n",
       "      <th>2</th>\n",
       "      <td>Really a great course! it highlighted the most...</td>\n",
       "      <td>1</td>\n",
       "    </tr>\n",
       "    <tr>\n",
       "      <th>3</th>\n",
       "      <td>The course is simple and excellent for new lea...</td>\n",
       "      <td>1</td>\n",
       "    </tr>\n",
       "    <tr>\n",
       "      <th>4</th>\n",
       "      <td>I learned a lot from feminism terms, I have an...</td>\n",
       "      <td>1</td>\n",
       "    </tr>\n",
       "  </tbody>\n",
       "</table>\n",
       "</div>"
      ],
      "text/plain": [
       "                                             reviews  sentiment\n",
       "0  A fantastic overview and immersion into the wo...          1\n",
       "1  Good course for learn the principles of oop wi...          1\n",
       "2  Really a great course! it highlighted the most...          1\n",
       "3  The course is simple and excellent for new lea...          1\n",
       "4  I learned a lot from feminism terms, I have an...          1"
      ]
     },
     "execution_count": 63,
     "metadata": {},
     "output_type": "execute_result"
    }
   ],
   "source": [
    "data.head()"
   ]
  },
  {
   "cell_type": "code",
   "execution_count": 64,
   "id": "059c3d50",
   "metadata": {},
   "outputs": [
    {
     "data": {
      "text/plain": [
       "array([ 1, -1,  0], dtype=int64)"
      ]
     },
     "execution_count": 64,
     "metadata": {},
     "output_type": "execute_result"
    }
   ],
   "source": [
    "data['sentiment'].unique()"
   ]
  },
  {
   "cell_type": "code",
   "execution_count": 65,
   "id": "a13bff41",
   "metadata": {},
   "outputs": [],
   "source": [
    "from sklearn.utils import resample\n",
    "#create two different dataframe of majority and minority class \n",
    "df_majority = data[(data['sentiment']==1)] \n",
    "df_minority = data[(data['sentiment']!=1)] \n",
    "df_majority_dwnsampled = resample(df_majority, \n",
    "                                 replace=True,    \n",
    "                                 n_samples= 81845, \n",
    "                                 random_state=42)  \n",
    "# Combine majority class with upsampled minority class\n",
    "df_dwnsampled = pd.concat([df_majority_dwnsampled, df_minority])"
   ]
  },
  {
   "cell_type": "code",
   "execution_count": 66,
   "id": "ee205682",
   "metadata": {},
   "outputs": [
    {
     "name": "stdout",
     "output_type": "stream",
     "text": [
      "Number of rows per star rating\n",
      " 1    81840\n",
      " 0    48292\n",
      "-1    33535\n",
      "Name: sentiment, dtype: int64\n"
     ]
    }
   ],
   "source": [
    "print(\"Number of rows per star rating\")\n",
    "print(data['sentiment'].value_counts())"
   ]
  },
  {
   "cell_type": "code",
   "execution_count": 67,
   "id": "e113f2ba",
   "metadata": {},
   "outputs": [],
   "source": [
    "# function to split the dataset (70-30)trained-test \n",
    "from sklearn.model_selection import train_test_split\n",
    "df_dwnsampled = df_dwnsampled.dropna()"
   ]
  },
  {
   "cell_type": "code",
   "execution_count": 68,
   "id": "38950161",
   "metadata": {},
   "outputs": [],
   "source": [
    "x_train, x_test, y_train, y_test = train_test_split(df_dwnsampled['reviews'], df_dwnsampled['sentiment'], test_size = 0.3)"
   ]
  },
  {
   "cell_type": "code",
   "execution_count": 69,
   "id": "d7f35167",
   "metadata": {},
   "outputs": [
    {
     "data": {
      "text/plain": [
       "90535         Pretty average. Check out Angela Yu on Udemy.\n",
       "39945     A very comprehensive and practical course on h...\n",
       "160598    I expected much more in this course. In my poi...\n",
       "107933    This course was average. The first 2 weeks wer...\n",
       "133387    THIS course is using only its own packages and...\n",
       "Name: reviews, dtype: object"
      ]
     },
     "execution_count": 69,
     "metadata": {},
     "output_type": "execute_result"
    }
   ],
   "source": [
    "x_train.head()"
   ]
  },
  {
   "cell_type": "code",
   "execution_count": 70,
   "id": "23b9d9bd",
   "metadata": {},
   "outputs": [
    {
     "name": "stdout",
     "output_type": "stream",
     "text": [
      "<class 'pandas.core.series.Series'>\n",
      "Int64Index: 49102 entries, 67262 to 81004\n",
      "Series name: reviews\n",
      "Non-Null Count  Dtype \n",
      "--------------  ----- \n",
      "49102 non-null  object\n",
      "dtypes: object(1)\n",
      "memory usage: 767.2+ KB\n"
     ]
    }
   ],
   "source": [
    "x_test.info()"
   ]
  },
  {
   "cell_type": "code",
   "execution_count": 71,
   "id": "fb39a659",
   "metadata": {},
   "outputs": [
    {
     "data": {
      "text/plain": [
       "90535     0\n",
       "39945     1\n",
       "160598    0\n",
       "107933   -1\n",
       "133387    0\n",
       "Name: sentiment, dtype: int64"
      ]
     },
     "execution_count": 71,
     "metadata": {},
     "output_type": "execute_result"
    }
   ],
   "source": [
    "y_train.head()"
   ]
  },
  {
   "cell_type": "code",
   "execution_count": 72,
   "id": "b3ef3e83",
   "metadata": {},
   "outputs": [
    {
     "data": {
      "text/plain": [
       "67262    1\n",
       "33326    1\n",
       "50007    1\n",
       "80335    1\n",
       "22599    1\n",
       "Name: sentiment, dtype: int64"
      ]
     },
     "execution_count": 72,
     "metadata": {},
     "output_type": "execute_result"
    }
   ],
   "source": [
    "y_test.head()"
   ]
  },
  {
   "cell_type": "code",
   "execution_count": 73,
   "id": "27fb5ca6",
   "metadata": {},
   "outputs": [],
   "source": [
    "from sklearn.feature_extraction.text import CountVectorizer #to conver letter into numbers\n",
    "vectorizer = CountVectorizer(token_pattern= r'\\b\\w+\\b')\n",
    "train_matrix = vectorizer.fit_transform(x_train)\n",
    "test_matrix = vectorizer.transform(x_test)"
   ]
  },
  {
   "cell_type": "code",
   "execution_count": 74,
   "id": "a7de3282",
   "metadata": {},
   "outputs": [
    {
     "data": {
      "text/plain": [
       "<114570x41356 sparse matrix of type '<class 'numpy.int64'>'\n",
       "\twith 2784218 stored elements in Compressed Sparse Row format>"
      ]
     },
     "execution_count": 74,
     "metadata": {},
     "output_type": "execute_result"
    }
   ],
   "source": [
    "train_matrix #sparse matrix"
   ]
  },
  {
   "cell_type": "code",
   "execution_count": 75,
   "id": "15c3bdf3",
   "metadata": {},
   "outputs": [
    {
     "data": {
      "text/plain": [
       "CountVectorizer(token_pattern='\\\\b\\\\w+\\\\b')"
      ]
     },
     "execution_count": 75,
     "metadata": {},
     "output_type": "execute_result"
    }
   ],
   "source": [
    "vectorizer #function"
   ]
  },
  {
   "cell_type": "code",
   "execution_count": 76,
   "id": "acc2540a",
   "metadata": {},
   "outputs": [
    {
     "data": {
      "text/plain": [
       "(114570, 41356)"
      ]
     },
     "execution_count": 76,
     "metadata": {},
     "output_type": "execute_result"
    }
   ],
   "source": [
    "train_matrix.shape"
   ]
  },
  {
   "cell_type": "code",
   "execution_count": 77,
   "id": "4b2a6ff7",
   "metadata": {},
   "outputs": [],
   "source": [
    "x_train = train_matrix\n",
    "x_test = test_matrix"
   ]
  },
  {
   "cell_type": "code",
   "execution_count": 78,
   "id": "5f686f3e",
   "metadata": {},
   "outputs": [],
   "source": [
    "from sklearn.ensemble import RandomForestClassifier"
   ]
  },
  {
   "cell_type": "code",
   "execution_count": 79,
   "id": "37aa78c8",
   "metadata": {},
   "outputs": [],
   "source": [
    "rf = RandomForestClassifier()   # fun to obj"
   ]
  },
  {
   "cell_type": "code",
   "execution_count": 80,
   "id": "eb3dca15",
   "metadata": {},
   "outputs": [
    {
     "data": {
      "text/plain": [
       "RandomForestClassifier()"
      ]
     },
     "execution_count": 80,
     "metadata": {},
     "output_type": "execute_result"
    }
   ],
   "source": [
    "rf.fit(x_train, y_train) #training model reviews to label"
   ]
  },
  {
   "cell_type": "code",
   "execution_count": 81,
   "id": "6f2bf55e",
   "metadata": {},
   "outputs": [
    {
     "data": {
      "text/plain": [
       "0.9321616227444911"
      ]
     },
     "execution_count": 81,
     "metadata": {},
     "output_type": "execute_result"
    }
   ],
   "source": [
    "rf.score(x_test, y_test)\n"
   ]
  },
  {
   "cell_type": "code",
   "execution_count": 82,
   "id": "702e3554",
   "metadata": {},
   "outputs": [],
   "source": [
    "from sklearn.metrics import classification_report"
   ]
  },
  {
   "cell_type": "code",
   "execution_count": 83,
   "id": "2e74298a",
   "metadata": {},
   "outputs": [],
   "source": [
    "preds = rf.predict(x_test)"
   ]
  },
  {
   "cell_type": "code",
   "execution_count": 84,
   "id": "1bb111c6",
   "metadata": {},
   "outputs": [
    {
     "name": "stdout",
     "output_type": "stream",
     "text": [
      "              precision    recall  f1-score   support\n",
      "\n",
      "          -1       0.90      0.96      0.93      9454\n",
      "           0       0.91      0.90      0.90     14632\n",
      "           1       0.96      0.94      0.95     25016\n",
      "\n",
      "    accuracy                           0.93     49102\n",
      "   macro avg       0.92      0.93      0.93     49102\n",
      "weighted avg       0.93      0.93      0.93     49102\n",
      "\n"
     ]
    }
   ],
   "source": [
    "print(classification_report(preds,y_test))"
   ]
  },
  {
   "cell_type": "code",
   "execution_count": 85,
   "id": "ec604930",
   "metadata": {},
   "outputs": [],
   "source": [
    "import pickle\n",
    "pickle.dump(rf, open('model.pkl', 'wb'))"
   ]
  },
  {
   "cell_type": "code",
   "execution_count": 87,
   "id": "d0eafada",
   "metadata": {},
   "outputs": [
    {
     "data": {
      "text/plain": [
       "array([ 0,  1,  0, ...,  1, -1,  1], dtype=int64)"
      ]
     },
     "execution_count": 87,
     "metadata": {},
     "output_type": "execute_result"
    }
   ],
   "source": [
    "pickled_model = pickle.load(open('model.pkl', 'rb'))\n",
    "pickled_model.predict(x_train)"
   ]
  },
  {
   "cell_type": "code",
   "execution_count": 88,
   "id": "d7f349f9",
   "metadata": {},
   "outputs": [],
   "source": [
    "pickle.dump(vectorizer, open(\"vector.pkl\",\"wb\"))"
   ]
  }
 ],
 "metadata": {
  "kernelspec": {
   "display_name": "Python 3 (ipykernel)",
   "language": "python",
   "name": "python3"
  },
  "language_info": {
   "codemirror_mode": {
    "name": "ipython",
    "version": 3
   },
   "file_extension": ".py",
   "mimetype": "text/x-python",
   "name": "python",
   "nbconvert_exporter": "python",
   "pygments_lexer": "ipython3",
   "version": "3.9.13"
  }
 },
 "nbformat": 4,
 "nbformat_minor": 5
}
